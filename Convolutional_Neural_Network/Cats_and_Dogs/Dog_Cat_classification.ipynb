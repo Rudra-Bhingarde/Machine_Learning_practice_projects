{
 "cells": [
  {
   "cell_type": "markdown",
   "id": "7513168e-7cb2-42e6-a58a-e25fdd05e495",
   "metadata": {},
   "source": [
    "# Building a CNN for cats and dogs image classification"
   ]
  },
  {
   "cell_type": "markdown",
   "id": "2ca14c73-40d7-4b52-a999-40e44ba6911f",
   "metadata": {},
   "source": [
    "## Importing libraries"
   ]
  },
  {
   "cell_type": "code",
   "execution_count": 1,
   "id": "212276f9-8cc6-48c8-9b75-6df23cd6430c",
   "metadata": {},
   "outputs": [],
   "source": [
    "import tensorflow as tf\n",
    "from tensorflow.keras.preprocessing.image import ImageDataGenerator"
   ]
  },
  {
   "cell_type": "code",
   "execution_count": 2,
   "id": "99b365d6-d510-441d-90b0-fb82db7737b8",
   "metadata": {},
   "outputs": [
    {
     "data": {
      "text/plain": [
       "'2.20.0'"
      ]
     },
     "execution_count": 2,
     "metadata": {},
     "output_type": "execute_result"
    }
   ],
   "source": [
    "tf.__version__"
   ]
  },
  {
   "cell_type": "markdown",
   "id": "5aff5906-3d9e-4bda-8e3b-adc33b0ed723",
   "metadata": {},
   "source": [
    "## Data Preprocessing"
   ]
  },
  {
   "cell_type": "markdown",
   "id": "302d7ff7-24bf-4a20-b88e-2f5d85b66056",
   "metadata": {},
   "source": [
    "### Preprocessing the Training set"
   ]
  },
  {
   "cell_type": "code",
   "execution_count": 3,
   "id": "02641d97-1e7a-458f-9574-1598d78a19eb",
   "metadata": {},
   "outputs": [
    {
     "name": "stdout",
     "output_type": "stream",
     "text": [
      "Found 8000 images belonging to 2 classes.\n"
     ]
    }
   ],
   "source": [
    "train_datagen = ImageDataGenerator(\n",
    "                rescale=1./255,\n",
    "                shear_range=0.2,\n",
    "                zoom_range=0.2,\n",
    "                horizontal_flip=True\n",
    "                )\n",
    "training_set = train_datagen.flow_from_directory(\n",
    "                'dataset/training_set',\n",
    "                target_size=(128,128),\n",
    "                batch_size=32,\n",
    "                class_mode = 'binary'\n",
    "                )"
   ]
  },
  {
   "cell_type": "markdown",
   "id": "4f28b75c-7c77-42d6-9a08-ef331e3c8956",
   "metadata": {},
   "source": [
    "### Preprocessing the Testing set"
   ]
  },
  {
   "cell_type": "code",
   "execution_count": 4,
   "id": "c3216cd6-3a3c-42b1-a8f5-2e47857a6f0c",
   "metadata": {},
   "outputs": [
    {
     "name": "stdout",
     "output_type": "stream",
     "text": [
      "Found 2000 images belonging to 2 classes.\n"
     ]
    }
   ],
   "source": [
    "test_datagen = ImageDataGenerator(rescale=1./255)\n",
    "test_set = test_datagen.flow_from_directory(\n",
    "                'dataset/test_set',\n",
    "                target_size=(128,128),\n",
    "                batch_size=32,\n",
    "                class_mode='binary'\n",
    "                )\n"
   ]
  },
  {
   "cell_type": "markdown",
   "id": "7ff8b395-3f9c-4c51-a325-328c0607af06",
   "metadata": {},
   "source": [
    "## Building the CNN"
   ]
  },
  {
   "cell_type": "markdown",
   "id": "4afdec18-c4f0-40a2-ace0-d3a277ae49d1",
   "metadata": {},
   "source": [
    "### Initialising the CNN"
   ]
  },
  {
   "cell_type": "code",
   "execution_count": 5,
   "id": "d56e6a3a-effd-4f33-a5d1-30099531195b",
   "metadata": {},
   "outputs": [],
   "source": [
    "cnn = tf.keras.models.Sequential()"
   ]
  },
  {
   "cell_type": "markdown",
   "id": "3ba0d16d-1906-4f05-9cd8-576c0c824ce3",
   "metadata": {},
   "source": [
    "### Convolution"
   ]
  },
  {
   "cell_type": "code",
   "execution_count": 6,
   "id": "5a61d855-6a48-4979-840a-5d5982d69e1f",
   "metadata": {},
   "outputs": [],
   "source": [
    "cnn = tf.keras.models.Sequential()\n",
    "cnn.add(tf.keras.layers.Input(shape=(128, 128, 3)))  # Explicit input layer\n",
    "cnn.add(tf.keras.layers.Conv2D(filters=32, kernel_size=3, activation='relu'))"
   ]
  },
  {
   "cell_type": "markdown",
   "id": "468e3f8e-bc3a-48d6-9700-3121c89685d2",
   "metadata": {},
   "source": [
    "### Pooling"
   ]
  },
  {
   "cell_type": "code",
   "execution_count": 7,
   "id": "034f6bfd-1e00-43cd-8014-e11468ad75eb",
   "metadata": {},
   "outputs": [],
   "source": [
    "cnn.add(tf.keras.layers.MaxPool2D(pool_size = 2, strides = 2))"
   ]
  },
  {
   "cell_type": "markdown",
   "id": "689f43bf-b924-4945-9cbf-513fddb95f84",
   "metadata": {},
   "source": [
    "### Adding a second convolution layer"
   ]
  },
  {
   "cell_type": "code",
   "execution_count": 8,
   "id": "f0938db6-47d9-4658-8368-16ab83e6d4f4",
   "metadata": {},
   "outputs": [],
   "source": [
    "cnn.add(tf.keras.layers.Conv2D(filters=64, kernel_size = 3, activation = 'relu'))\n",
    "cnn.add(tf.keras.layers.MaxPool2D(pool_size = 2, strides = 2))"
   ]
  },
  {
   "cell_type": "code",
   "execution_count": 9,
   "id": "706e080e-8a8e-4582-8e0c-9e5c73e19b44",
   "metadata": {},
   "outputs": [],
   "source": [
    "cnn.add(tf.keras.layers.Conv2D(filters=128, kernel_size = 3, activation = 'relu'))\n",
    "cnn.add(tf.keras.layers.MaxPool2D(pool_size = 2, strides = 2))"
   ]
  },
  {
   "cell_type": "markdown",
   "id": "ed3447a9-63a8-48e4-905c-9d93bc29facd",
   "metadata": {},
   "source": [
    "### Flattening"
   ]
  },
  {
   "cell_type": "code",
   "execution_count": 10,
   "id": "051fd564-6b87-47ed-b8dd-dd488b70b635",
   "metadata": {},
   "outputs": [],
   "source": [
    "cnn.add(tf.keras.layers.Flatten())"
   ]
  },
  {
   "cell_type": "markdown",
   "id": "e42ce3b4-3aec-41ce-9a8e-dd37ba332cb8",
   "metadata": {},
   "source": [
    "### Full Connection"
   ]
  },
  {
   "cell_type": "code",
   "execution_count": 11,
   "id": "54061a1d-9255-4fcd-93ef-081f2272866f",
   "metadata": {},
   "outputs": [],
   "source": [
    "cnn.add(tf.keras.layers.Dense(units = 256,activation = 'relu'))\n",
    "cnn.add(tf.keras.layers.Dropout(0.5))\n",
    "cnn.add(tf.keras.layers.Dense(units = 128, activation = 'relu'))\n",
    "cnn.add(tf.keras.layers.Dropout(0.5))"
   ]
  },
  {
   "cell_type": "markdown",
   "id": "cc055d30-945b-4964-b906-6cf2431225bf",
   "metadata": {},
   "source": [
    "### Output Layer"
   ]
  },
  {
   "cell_type": "code",
   "execution_count": 12,
   "id": "e6b75faa-2ffc-4bd8-961e-cb44b03c6525",
   "metadata": {},
   "outputs": [],
   "source": [
    "cnn.add(tf.keras.layers.Dense(units = 1, activation = 'sigmoid'))"
   ]
  },
  {
   "cell_type": "markdown",
   "id": "305a4d4b-ff04-4162-8a99-7ec4751e4109",
   "metadata": {},
   "source": [
    "### Compiling the CNN"
   ]
  },
  {
   "cell_type": "code",
   "execution_count": 13,
   "id": "005ac5b0-d2ae-4383-a639-00ed07799e71",
   "metadata": {},
   "outputs": [],
   "source": [
    "cnn.compile(optimizer = 'adam', loss = 'binary_crossentropy', metrics = ['accuracy'])"
   ]
  },
  {
   "cell_type": "markdown",
   "id": "12605278-078b-498f-b885-de9efa4f0ee3",
   "metadata": {},
   "source": [
    "### Training the CNN on the Training set and evaluating it on the Test set"
   ]
  },
  {
   "cell_type": "code",
   "execution_count": null,
   "id": "9db94bbf-9298-4a4a-80ac-d8231fb6912f",
   "metadata": {},
   "outputs": [
    {
     "name": "stderr",
     "output_type": "stream",
     "text": [
      "C:\\Users\\RHIU\\AppData\\Roaming\\Python\\Python313\\site-packages\\keras\\src\\trainers\\data_adapters\\py_dataset_adapter.py:121: UserWarning: Your `PyDataset` class should call `super().__init__(**kwargs)` in its constructor. `**kwargs` can include `workers`, `use_multiprocessing`, `max_queue_size`. Do not pass these arguments to `fit()`, as they will be ignored.\n",
      "  self._warn_if_super_not_called()\n"
     ]
    },
    {
     "name": "stdout",
     "output_type": "stream",
     "text": [
      "Epoch 1/25\n",
      "\u001b[1m250/250\u001b[0m \u001b[32m━━━━━━━━━━━━━━━━━━━━\u001b[0m\u001b[37m\u001b[0m \u001b[1m271s\u001b[0m 1s/step - accuracy: 0.5608 - loss: 0.6800 - val_accuracy: 0.5030 - val_loss: 0.7755\n",
      "Epoch 2/25\n",
      "\u001b[1m250/250\u001b[0m \u001b[32m━━━━━━━━━━━━━━━━━━━━\u001b[0m\u001b[37m\u001b[0m \u001b[1m288s\u001b[0m 1s/step - accuracy: 0.6396 - loss: 0.6311 - val_accuracy: 0.7135 - val_loss: 0.5746\n",
      "Epoch 3/25\n",
      "\u001b[1m 23/250\u001b[0m \u001b[32m━\u001b[0m\u001b[37m━━━━━━━━━━━━━━━━━━━\u001b[0m \u001b[1m3:55\u001b[0m 1s/step - accuracy: 0.6461 - loss: 0.6240"
     ]
    }
   ],
   "source": [
    "cnn.fit(x = training_set, validation_data = test_set, epochs = 25)"
   ]
  },
  {
   "cell_type": "markdown",
   "id": "80487742-efa8-4bd1-8baf-c65c1dab9074",
   "metadata": {},
   "source": [
    "### Making a single Prediction"
   ]
  },
  {
   "cell_type": "code",
   "execution_count": null,
   "id": "f0d3c0ed-df95-4f08-abaa-5f8e29cb499a",
   "metadata": {},
   "outputs": [],
   "source": [
    "import numpy as np\n",
    "from tensorflow.keras.preprocessing import image\n",
    "test_image = image.load_img(\"dogs/dogo20.jpg\" , target_size = (128,128))\n",
    "test_image = image.img_to_array(test_image)\n",
    "test_image = np.expand_dims(test_image, axis = 0)\n",
    "result = cnn.predict(test_image)\n",
    "training_set.class_indices\n",
    "if result[0][0] == 1:\n",
    "    prediction = 'dog'\n",
    "else:\n",
    "    prediction = 'cat'\n",
    "print( prediction)"
   ]
  },
  {
   "cell_type": "code",
   "execution_count": null,
   "id": "6d8336eb-4483-4f3a-bf0d-3550035c7d89",
   "metadata": {},
   "outputs": [],
   "source": [
    "training_set.class_indices"
   ]
  },
  {
   "cell_type": "markdown",
   "id": "e52802a5-52e5-4344-837b-434407c60fb7",
   "metadata": {},
   "source": [
    "## Note: i used the CNN on 20 cats photos and 20 dogs photos and it predicted 11/20 cat photos correctly and it predicted 18/20 dog photos correctly so ya the model guesses dogs really nicely but when it comes to cats it gets a little confused.\n",
    "## cat's recall = 0.55\n",
    "## dog's recall = 0.90"
   ]
  },
  {
   "cell_type": "code",
   "execution_count": null,
   "id": "721ed9e3-1171-4543-af20-4c5461aeeebe",
   "metadata": {},
   "outputs": [],
   "source": [
    "cnn.save(\"cat_dog.keras\")"
   ]
  },
  {
   "cell_type": "code",
   "execution_count": null,
   "id": "429e8497-7f7d-43ae-8a25-6a8b48f48f68",
   "metadata": {},
   "outputs": [],
   "source": []
  }
 ],
 "metadata": {
  "kernelspec": {
   "display_name": "Python 3 (ipykernel)",
   "language": "python",
   "name": "python3"
  },
  "language_info": {
   "codemirror_mode": {
    "name": "ipython",
    "version": 3
   },
   "file_extension": ".py",
   "mimetype": "text/x-python",
   "name": "python",
   "nbconvert_exporter": "python",
   "pygments_lexer": "ipython3",
   "version": "3.13.1"
  }
 },
 "nbformat": 4,
 "nbformat_minor": 5
}
